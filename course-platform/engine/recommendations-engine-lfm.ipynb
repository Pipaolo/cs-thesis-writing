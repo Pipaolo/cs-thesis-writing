{
 "cells": [
  {
   "attachments": {},
   "cell_type": "markdown",
   "metadata": {},
   "source": [
    "### Recommendations Engine Light FM Version\n",
    "This is the main file for the recommendations engine that uses LightFM to predict recommendations for the user.\n",
    "\n",
    "\n",
    "Note: Try and use this on a linux environment to make sure that everything is working properly."
   ]
  },
  {
   "cell_type": "code",
   "execution_count": 199,
   "metadata": {},
   "outputs": [],
   "source": [
    "import pandas as pd\n",
    "import numpy as np\n",
    "from scipy import sparse\n",
    "from lightfm import LightFM\n",
    "from lightfm.data import  Dataset"
   ]
  },
  {
   "cell_type": "code",
   "execution_count": 200,
   "metadata": {},
   "outputs": [],
   "source": [
    "# Load the course datasets\n",
    "course_df = pd.read_csv('data/courses.csv')\n",
    "course_df.drop(columns=['createdAt', 'updatedAt', 'deletedAt', 'description'], axis=1, inplace=True)\n",
    "course_interaction_df = pd.read_csv('data/course_interactions.csv')\n",
    "course_interaction_df.drop(columns=['id','createdAt', 'updatedAt', 'deletedAt'], axis=1, inplace=True)"
   ]
  },
  {
   "cell_type": "code",
   "execution_count": 201,
   "metadata": {},
   "outputs": [
    {
     "data": {
      "text/html": [
       "<div>\n",
       "<style scoped>\n",
       "    .dataframe tbody tr th:only-of-type {\n",
       "        vertical-align: middle;\n",
       "    }\n",
       "\n",
       "    .dataframe tbody tr th {\n",
       "        vertical-align: top;\n",
       "    }\n",
       "\n",
       "    .dataframe thead th {\n",
       "        text-align: right;\n",
       "    }\n",
       "</style>\n",
       "<table border=\"1\" class=\"dataframe\">\n",
       "  <thead>\n",
       "    <tr style=\"text-align: right;\">\n",
       "      <th></th>\n",
       "      <th>userId</th>\n",
       "      <th>courseId</th>\n",
       "      <th>interactions</th>\n",
       "    </tr>\n",
       "  </thead>\n",
       "  <tbody>\n",
       "    <tr>\n",
       "      <th>0</th>\n",
       "      <td>2</td>\n",
       "      <td>53</td>\n",
       "      <td>1</td>\n",
       "    </tr>\n",
       "    <tr>\n",
       "      <th>1</th>\n",
       "      <td>2</td>\n",
       "      <td>54</td>\n",
       "      <td>1</td>\n",
       "    </tr>\n",
       "    <tr>\n",
       "      <th>2</th>\n",
       "      <td>2</td>\n",
       "      <td>55</td>\n",
       "      <td>1</td>\n",
       "    </tr>\n",
       "    <tr>\n",
       "      <th>3</th>\n",
       "      <td>2</td>\n",
       "      <td>56</td>\n",
       "      <td>1</td>\n",
       "    </tr>\n",
       "    <tr>\n",
       "      <th>4</th>\n",
       "      <td>2</td>\n",
       "      <td>100</td>\n",
       "      <td>3</td>\n",
       "    </tr>\n",
       "    <tr>\n",
       "      <th>...</th>\n",
       "      <td>...</td>\n",
       "      <td>...</td>\n",
       "      <td>...</td>\n",
       "    </tr>\n",
       "    <tr>\n",
       "      <th>97</th>\n",
       "      <td>7</td>\n",
       "      <td>4730</td>\n",
       "      <td>1</td>\n",
       "    </tr>\n",
       "    <tr>\n",
       "      <th>98</th>\n",
       "      <td>7</td>\n",
       "      <td>4741</td>\n",
       "      <td>1</td>\n",
       "    </tr>\n",
       "    <tr>\n",
       "      <th>99</th>\n",
       "      <td>7</td>\n",
       "      <td>4764</td>\n",
       "      <td>1</td>\n",
       "    </tr>\n",
       "    <tr>\n",
       "      <th>100</th>\n",
       "      <td>7</td>\n",
       "      <td>4789</td>\n",
       "      <td>1</td>\n",
       "    </tr>\n",
       "    <tr>\n",
       "      <th>101</th>\n",
       "      <td>7</td>\n",
       "      <td>4803</td>\n",
       "      <td>1</td>\n",
       "    </tr>\n",
       "  </tbody>\n",
       "</table>\n",
       "<p>102 rows × 3 columns</p>\n",
       "</div>"
      ],
      "text/plain": [
       "     userId  courseId  interactions\n",
       "0         2        53             1\n",
       "1         2        54             1\n",
       "2         2        55             1\n",
       "3         2        56             1\n",
       "4         2       100             3\n",
       "..      ...       ...           ...\n",
       "97        7      4730             1\n",
       "98        7      4741             1\n",
       "99        7      4764             1\n",
       "100       7      4789             1\n",
       "101       7      4803             1\n",
       "\n",
       "[102 rows x 3 columns]"
      ]
     },
     "execution_count": 201,
     "metadata": {},
     "output_type": "execute_result"
    }
   ],
   "source": [
    "# Group the course interactions by user and course and add a interactions column\n",
    "course_interaction_df = course_interaction_df.groupby(['userId', 'courseId']).size().reset_index(name='interactions')\n",
    "course_interaction_df"
   ]
  },
  {
   "cell_type": "code",
   "execution_count": 202,
   "metadata": {},
   "outputs": [],
   "source": [
    "# Create a lightfm dataset\n",
    "dataset = Dataset()\n",
    "\n",
    "# Fit the dataset using the course_interaction dataframe\n",
    "dataset.fit_partial(\n",
    "    users=course_interaction_df['userId'],\n",
    "    items=course_df['id'],\n",
    "    item_features=course_df['name'],\n",
    "    user_features=course_interaction_df['interactions']\n",
    ")"
   ]
  },
  {
   "cell_type": "code",
   "execution_count": 203,
   "metadata": {},
   "outputs": [
    {
     "name": "stdout",
     "output_type": "stream",
     "text": [
      "Num users: 6, num_items 3255.\n"
     ]
    }
   ],
   "source": [
    "# Check the current shape of the dataset\n",
    "num_users, num_items = dataset.interactions_shape()\n",
    "print('Num users: {}, num_items {}.'.format(num_users, num_items))"
   ]
  },
  {
   "cell_type": "code",
   "execution_count": 204,
   "metadata": {},
   "outputs": [
    {
     "name": "stdout",
     "output_type": "stream",
     "text": [
      "<6x3255 sparse matrix of type '<class 'numpy.int32'>'\n",
      "\twith 102 stored elements in COOrdinate format>\n"
     ]
    }
   ],
   "source": [
    "(interactions, weights) = dataset.build_interactions((\n",
    "    (x['userId'], x['courseId']) for _, x in course_interaction_df.iterrows()))\n",
    "\n",
    "print(repr(interactions))"
   ]
  },
  {
   "cell_type": "code",
   "execution_count": 205,
   "metadata": {},
   "outputs": [
    {
     "name": "stdout",
     "output_type": "stream",
     "text": [
      "<3255x6510 sparse matrix of type '<class 'numpy.float32'>'\n",
      "\twith 6510 stored elements in Compressed Sparse Row format>\n"
     ]
    }
   ],
   "source": [
    "item_features = dataset.build_item_features(((x['id'],[x['name']]) for _, x in course_df.iterrows()))\n",
    "\n",
    "print(repr(item_features))"
   ]
  },
  {
   "cell_type": "code",
   "execution_count": 206,
   "metadata": {},
   "outputs": [
    {
     "name": "stdout",
     "output_type": "stream",
     "text": [
      "<6x7 sparse matrix of type '<class 'numpy.float32'>'\n",
      "\twith 16 stored elements in Compressed Sparse Row format>\n"
     ]
    }
   ],
   "source": [
    "user_features = dataset.build_user_features(((x['userId'],[x['interactions']]) for _, x in course_interaction_df.iterrows()))\n",
    "print(repr(user_features))"
   ]
  },
  {
   "cell_type": "code",
   "execution_count": 207,
   "metadata": {},
   "outputs": [
    {
     "data": {
      "text/plain": [
       "<lightfm.lightfm.LightFM at 0x7f303e80a050>"
      ]
     },
     "execution_count": 207,
     "metadata": {},
     "output_type": "execute_result"
    }
   ],
   "source": [
    "model = LightFM(loss='warp', learning_rate=0.05)\n",
    "model.fit(interactions, \n",
    "          item_features=item_features, \n",
    "          user_features=user_features,\n",
    "          epochs=30,)"
   ]
  },
  {
   "cell_type": "code",
   "execution_count": 208,
   "metadata": {},
   "outputs": [],
   "source": [
    "n_users, n_items = interactions.shape\n",
    "\n",
    "scores = model.predict(0, np.arange(n_items))\n",
    "top_items = course_df['name'][np.argsort(-scores)]"
   ]
  },
  {
   "cell_type": "code",
   "execution_count": 209,
   "metadata": {},
   "outputs": [],
   "source": [
    "# Try and predict the top 10 courses for a non-existent user\n",
    "user_feature_map = {\n",
    "    'interactions': 0,\n",
    "}\n",
    "user_feature_list = ['interactions:0']\n",
    "\n",
    "def format_newuser_input(user_feature_map, user_feature_list):\n",
    "  #user_feature_map = user_feature_map  \n",
    "  num_features = len(user_feature_list)\n",
    "  normalised_val = 1.0 \n",
    "  target_indices = []\n",
    "  for feature in user_feature_list:\n",
    "    try:\n",
    "        target_indices.append(user_feature_map[feature])\n",
    "    except KeyError:\n",
    "        print(\"new user feature encountered '{}'\".format(feature))\n",
    "        pass\n",
    "  new_user_features = np.zeros(len(user_feature_map.keys()))\n",
    "  for i in target_indices:\n",
    "    new_user_features[i] = normalised_val\n",
    "  new_user_features = sparse.csr_matrix(new_user_features)\n",
    "  return(new_user_features)\n"
   ]
  },
  {
   "cell_type": "code",
   "execution_count": 210,
   "metadata": {},
   "outputs": [
    {
     "name": "stdout",
     "output_type": "stream",
     "text": [
      "new user feature encountered 'interactions:0'\n"
     ]
    },
    {
     "data": {
      "text/plain": [
       "matrix([[0.]])"
      ]
     },
     "execution_count": 210,
     "metadata": {},
     "output_type": "execute_result"
    }
   ],
   "source": [
    "new_user_features = format_newuser_input(user_feature_map, user_feature_list)\n",
    "new_user_features.todense()"
   ]
  },
  {
   "cell_type": "code",
   "execution_count": 215,
   "metadata": {},
   "outputs": [
    {
     "data": {
      "text/plain": [
       "3115       Kotlin Bootcamp for Programmers | Free Courses\n",
       "3123    17 Best Courses/Resources to Learn Kotlin Prog...\n",
       "3111       Top Kotlin Courses Online - Updated [May 2023]\n",
       "3109                  About the course - Java Programming\n",
       "3162    Learn Engineering With Online Courses, Classes...\n",
       "3160               Best Courses Programs in Aviation 2023\n",
       "12      Free Java Course Online for Beginners | Java P...\n",
       "3104        Java Programming for Beginners | Free Courses\n",
       "15      10 Best Java Courses and Certifications for Be...\n",
       "3107    Java Certification Training Course in Manila, ...\n",
       "Name: name, dtype: object"
      ]
     },
     "execution_count": 215,
     "metadata": {},
     "output_type": "execute_result"
    }
   ],
   "source": [
    "scores = model.predict(0, np.arange(n_items), user_features=new_user_features)\n",
    "top_items = course_df['name'][np.argsort(-scores)]\n",
    "top_items[:10]\n"
   ]
  },
  {
   "cell_type": "code",
   "execution_count": 211,
   "metadata": {},
   "outputs": [
    {
     "data": {
      "text/plain": [
       "(6, 3255)"
      ]
     },
     "execution_count": 211,
     "metadata": {},
     "output_type": "execute_result"
    }
   ],
   "source": [
    "interactions.shape"
   ]
  },
  {
   "attachments": {},
   "cell_type": "markdown",
   "metadata": {},
   "source": [
    "#### Let's start saving the model so we can use it later on"
   ]
  },
  {
   "cell_type": "code",
   "execution_count": 212,
   "metadata": {},
   "outputs": [],
   "source": [
    "import pickle\n",
    "\n",
    "# Save the dataset\n",
    "with open('data/dataset.pickle', 'wb') as f:\n",
    "    pickle.dump(dataset, f, protocol=pickle.HIGHEST_PROTOCOL)\n",
    "    \n",
    "\n",
    "with open('data/model.pickle', 'wb') as f:\n",
    "    pickle.dump(model, f, protocol=pickle.HIGHEST_PROTOCOL)"
   ]
  },
  {
   "cell_type": "code",
   "execution_count": 213,
   "metadata": {},
   "outputs": [
    {
     "name": "stdout",
     "output_type": "stream",
     "text": [
      "3115       Kotlin Bootcamp for Programmers | Free Courses\n",
      "3123    17 Best Courses/Resources to Learn Kotlin Prog...\n",
      "3104        Java Programming for Beginners | Free Courses\n",
      "3109                  About the course - Java Programming\n",
      "15      10 Best Java Courses and Certifications for Be...\n",
      "16           Learn Java – Free Java Courses for Beginners\n",
      "3162    Learn Engineering With Online Courses, Classes...\n",
      "12      Free Java Course Online for Beginners | Java P...\n",
      "3155         Android Development with Kotlin Course Badge\n",
      "3134          Railway Engineering, Basic Course - TBA4225\n",
      "Name: name, dtype: object\n"
     ]
    }
   ],
   "source": [
    "# Let's try opening the saved model and see if it works\n",
    "from typing import cast\n",
    "with open('data/model.pickle', 'rb') as f:\n",
    "    loaded_model = cast(LightFM, pickle.load(f))\n",
    "    scores = loaded_model.predict(0, np.arange(n_items))\n",
    "    top_items = course_df['name'][np.argsort(-scores)]\n",
    "    print(top_items.head(10))"
   ]
  }
 ],
 "metadata": {
  "kernelspec": {
   "display_name": "Python 3",
   "language": "python",
   "name": "python3"
  },
  "language_info": {
   "codemirror_mode": {
    "name": "ipython",
    "version": 3
   },
   "file_extension": ".py",
   "mimetype": "text/x-python",
   "name": "python",
   "nbconvert_exporter": "python",
   "pygments_lexer": "ipython3",
   "version": "3.11.3"
  },
  "orig_nbformat": 4
 },
 "nbformat": 4,
 "nbformat_minor": 2
}
