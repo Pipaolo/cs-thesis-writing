{
 "cells": [
  {
   "attachments": {},
   "cell_type": "markdown",
   "metadata": {},
   "source": [
    "### Recommendations Engine Light FM Version\n",
    "This is the main file for the recommendations engine that uses LightFM to predict recommendations for the user.\n",
    "\n",
    "\n",
    "Note: Try and use this on a linux environment to make sure that everything is working properly."
   ]
  },
  {
   "cell_type": "code",
   "execution_count": 336,
   "metadata": {},
   "outputs": [],
   "source": [
    "import pandas as pd\n",
    "import numpy as np\n",
    "from scipy import sparse\n",
    "from lightfm import LightFM\n",
    "from lightfm.data import  Dataset"
   ]
  },
  {
   "cell_type": "code",
   "execution_count": 337,
   "metadata": {},
   "outputs": [],
   "source": [
    "# Load the course datasets\n",
    "course_df = pd.read_csv('data/Course.csv')\n",
    "course_df.drop(columns=['createdAt', 'updatedAt', 'deletedAt'], axis=1, inplace=True)\n",
    "course_interaction_df = pd.read_csv('data/CourseInteraction.csv')\n",
    "course_interaction_df.drop(columns=['id','createdAt', 'updatedAt', 'deletedAt'], axis=1, inplace=True)"
   ]
  },
  {
   "cell_type": "code",
   "execution_count": 338,
   "metadata": {},
   "outputs": [],
   "source": [
    "# Add a column to the course_interaction_df to indicate the number of times a user has interacted with a course\n",
    "course_interaction_df['interaction_count'] = course_interaction_df.groupby(['userId', 'courseId'])['userId'].transform('count')\n"
   ]
  },
  {
   "cell_type": "code",
   "execution_count": 339,
   "metadata": {},
   "outputs": [
    {
     "data": {
      "text/html": [
       "<div>\n",
       "<style scoped>\n",
       "    .dataframe tbody tr th:only-of-type {\n",
       "        vertical-align: middle;\n",
       "    }\n",
       "\n",
       "    .dataframe tbody tr th {\n",
       "        vertical-align: top;\n",
       "    }\n",
       "\n",
       "    .dataframe thead th {\n",
       "        text-align: right;\n",
       "    }\n",
       "</style>\n",
       "<table border=\"1\" class=\"dataframe\">\n",
       "  <thead>\n",
       "    <tr style=\"text-align: right;\">\n",
       "      <th></th>\n",
       "      <th>courseId</th>\n",
       "      <th>name</th>\n",
       "      <th>description</th>\n",
       "      <th>url</th>\n",
       "    </tr>\n",
       "  </thead>\n",
       "  <tbody>\n",
       "    <tr>\n",
       "      <th>0</th>\n",
       "      <td>53</td>\n",
       "      <td>LearnSQL - Learn &amp; Practice SQL</td>\n",
       "      <td>Filter by: · Learn SQL Basics for Data Science...</td>\n",
       "      <td>https://www.coursera.org/courses?query=sql</td>\n",
       "    </tr>\n",
       "    <tr>\n",
       "      <th>1</th>\n",
       "      <td>54</td>\n",
       "      <td>Google Cloud SQL - 90-day free trial</td>\n",
       "      <td>Top courses in SQL and Database Management · C...</td>\n",
       "      <td>https://www.udemy.com/topic/sql/</td>\n",
       "    </tr>\n",
       "    <tr>\n",
       "      <th>2</th>\n",
       "      <td>55</td>\n",
       "      <td>Best SQL Courses [2023]</td>\n",
       "      <td>In this SQL course, you'll learn how to manage...</td>\n",
       "      <td>https://www.codecademy.com/learn/learn-sql</td>\n",
       "    </tr>\n",
       "    <tr>\n",
       "      <th>3</th>\n",
       "      <td>56</td>\n",
       "      <td>Top SQL Courses Online - Updated [May 2023]</td>\n",
       "      <td>Apr 25, 2023 — Explore online SQL courses from...</td>\n",
       "      <td>https://www.edx.org/learn/sql</td>\n",
       "    </tr>\n",
       "    <tr>\n",
       "      <th>4</th>\n",
       "      <td>57</td>\n",
       "      <td>Learn SQL</td>\n",
       "      <td>Nov 15, 2022 — Our Top 6 Online SQL Courses fo...</td>\n",
       "      <td>https://learnsql.com/blog/best-online-sql-cour...</td>\n",
       "    </tr>\n",
       "  </tbody>\n",
       "</table>\n",
       "</div>"
      ],
      "text/plain": [
       "   courseId                                         name  \\\n",
       "0        53              LearnSQL - Learn & Practice SQL   \n",
       "1        54         Google Cloud SQL - 90-day free trial   \n",
       "2        55                      Best SQL Courses [2023]   \n",
       "3        56  Top SQL Courses Online - Updated [May 2023]   \n",
       "4        57                                    Learn SQL   \n",
       "\n",
       "                                         description  \\\n",
       "0  Filter by: · Learn SQL Basics for Data Science...   \n",
       "1  Top courses in SQL and Database Management · C...   \n",
       "2  In this SQL course, you'll learn how to manage...   \n",
       "3  Apr 25, 2023 — Explore online SQL courses from...   \n",
       "4  Nov 15, 2022 — Our Top 6 Online SQL Courses fo...   \n",
       "\n",
       "                                                 url  \n",
       "0         https://www.coursera.org/courses?query=sql  \n",
       "1                   https://www.udemy.com/topic/sql/  \n",
       "2         https://www.codecademy.com/learn/learn-sql  \n",
       "3                      https://www.edx.org/learn/sql  \n",
       "4  https://learnsql.com/blog/best-online-sql-cour...  "
      ]
     },
     "execution_count": 339,
     "metadata": {},
     "output_type": "execute_result"
    }
   ],
   "source": [
    "# Rename course id to courseId\n",
    "course_df.rename(columns={'id':'courseId'}, inplace=True)\n",
    "course_df.head()\n"
   ]
  },
  {
   "cell_type": "markdown",
   "metadata": {},
   "source": [
    "#### Create a dataset for the recommendations engine"
   ]
  },
  {
   "cell_type": "code",
   "execution_count": 340,
   "metadata": {},
   "outputs": [],
   "source": [
    "# Create a lightfm dataset\n",
    "ds = Dataset()\n",
    "\n",
    "\n",
    "# Fit the dataset\n",
    "ds.fit(\n",
    "    users=course_interaction_df['userId'],\n",
    "    user_features=course_interaction_df['interaction_count'],\n",
    "    items=course_interaction_df['courseId'],\n",
    ")\n",
    "\n",
    "ds.fit_partial(\n",
    "    items=course_df['courseId'],\n",
    "    item_features=course_df['name']\n",
    ")\n",
    "\n",
    "ds.fit_partial(\n",
    "    item_features=course_df['description']\n",
    ")\n",
    "\n",
    "item_features = ds.build_item_features(((x['courseId'], [x['name'], x['description']]) for _, x in course_df.iterrows()))\n",
    "user_features = ds.build_user_features(((x['userId'], [x['interaction_count']]) for _, x in course_interaction_df.iterrows()))\n",
    "(interactions, weights) = ds.build_interactions(((x['userId'], x['courseId']) for _, x in course_interaction_df.iterrows()))"
   ]
  },
  {
   "cell_type": "code",
   "execution_count": 341,
   "metadata": {},
   "outputs": [
    {
     "name": "stdout",
     "output_type": "stream",
     "text": [
      "Num users: 12, num_items 3344.\n"
     ]
    }
   ],
   "source": [
    "# Check the current shape of the dataset\n",
    "print('Num users: {}, num_items {}.'.format(ds.interactions_shape()[0], ds.interactions_shape()[1]))"
   ]
  },
  {
   "cell_type": "code",
   "execution_count": 342,
   "metadata": {},
   "outputs": [
    {
     "name": "stdout",
     "output_type": "stream",
     "text": [
      "Num users: 12, num_items 3344.\n",
      "Num users: 12, num_items 3344.\n"
     ]
    }
   ],
   "source": [
    "# Split the data into training and test sets\n",
    "from lightfm.cross_validation import random_train_test_split\n",
    "\n",
    "train, test = random_train_test_split(interactions, test_percentage=0.2, random_state=np.random.RandomState(42))\n",
    "print('Num users: {}, num_items {}.'.format(train.shape[0], train.shape[1]))\n",
    "print('Num users: {}, num_items {}.'.format(test.shape[0], test.shape[1]))"
   ]
  },
  {
   "cell_type": "code",
   "execution_count": 343,
   "metadata": {},
   "outputs": [
    {
     "name": "stdout",
     "output_type": "stream",
     "text": [
      "125000\n"
     ]
    }
   ],
   "source": [
    "# Create a loop to test the model with different hyperparameters\n",
    "from lightfm import LightFM\n",
    "from lightfm.evaluation import precision_at_k\n",
    "from itertools import product\n",
    "from tqdm import tqdm\n",
    "\n",
    "\n",
    "params = {\n",
    "    'no_components': [10, 20, 40, 80, 160],\n",
    "    'learning_schedule': ['adagrad', 'adadelta'],\n",
    "    'loss': ['logistic', 'bpr', 'warp', 'warp-kos'],\n",
    "    'learning_rate': [0.05, 0.1, 0.2, 0.5, 1.0],\n",
    "    'item_alpha': [0.0, 0.0001, 0.0005, 0.001, 0.005],\n",
    "    'user_alpha': [0.0, 0.0001, 0.0005, 0.001, 0.005],\n",
    "    'max_sampled': [5, 10, 15, 20, 25],\n",
    "    'num_epochs': [5, 10, 15, 20, 25],\n",
    "    'random_state': [42]\n",
    "}\n",
    "\n",
    "\n",
    "param_grid = list(product(*params.values()))\n",
    "print(len(param_grid))\n",
    "\n",
    "# Create a function to test the model with different hyperparameters\n",
    "def test_model(params):\n",
    "    no_components, learning_schedule, loss, learning_rate, item_alpha, user_alpha, max_sampled, num_epochs, random_state = params\n",
    "    model = LightFM(no_components=no_components,\n",
    "                    learning_schedule=learning_schedule,\n",
    "                    loss=loss,\n",
    "                    learning_rate=learning_rate,\n",
    "                    item_alpha=item_alpha,\n",
    "                    user_alpha=user_alpha,\n",
    "                    max_sampled=max_sampled,\n",
    "                    random_state=random_state)\n",
    "    \n",
    "    model.fit(train, epochs=num_epochs, num_threads=8)\n",
    "    train_precision = precision_at_k(model, train, k=10).mean()\n",
    "    test_precision = precision_at_k(model, test, k=10).mean()\n",
    "    return train_precision, test_precision\n",
    "\n",
    "# Test the model with different hyperparameters\n",
    "# results = []\n",
    "# with tqdm(total=len(param_grid)) as pbar:\n",
    "#     for i in range(len(param_grid)):\n",
    "#         params = param_grid[i]\n",
    "#         pbar.update(1)\n",
    "#         pbar.set_postfix_str(\"Features: {}\".format(params))\n",
    "#         results.append(test_model(params))\n",
    "\n",
    "\n",
    "# # Print the results\n",
    "# results_df = pd.DataFrame(results, columns=['train_precision', 'test_precision'])\n",
    "# results_df['params'] = param_grid\n",
    "# results_df.sort_values('test_precision', ascending=False, inplace=True)\n",
    "\n",
    "# # Save the results to a csv\n",
    "# results_df.to_csv('data/results.csv', index=False)\n",
    "\n",
    "# # Print the best results\n",
    "# results_df.head(10)\n",
    "\n"
   ]
  },
  {
   "cell_type": "code",
   "execution_count": 344,
   "metadata": {},
   "outputs": [
    {
     "name": "stdout",
     "output_type": "stream",
     "text": [
      "Num users: 12, num_items 3344.\n"
     ]
    }
   ],
   "source": [
    "n_users, n_items = interactions.shape\n",
    "print('Num users: {}, num_items {}.'.format(n_users, n_items))"
   ]
  },
  {
   "cell_type": "code",
   "execution_count": 348,
   "metadata": {},
   "outputs": [
    {
     "name": "stdout",
     "output_type": "stream",
     "text": [
      "Test AUC: 71.82\n",
      "Test precision: 5.00\n",
      "Test recall: 9.00\n",
      "Test rank: 14.93\n"
     ]
    }
   ],
   "source": [
    "from lightfm.evaluation import auc_score, recall_at_k, reciprocal_rank\n",
    "# 160, adadelta, bpr, 0.1, 0.001, 0.0001, 25, 2\n",
    "model = LightFM(no_components=160,\n",
    "                learning_schedule='adadelta',\n",
    "                loss='warp',\n",
    "                learning_rate=0.1,\n",
    "                item_alpha=0.00001,\n",
    "                user_alpha=0.001,\n",
    "                max_sampled=35,\n",
    "                random_state=42,\n",
    "               )\n",
    "\n",
    "model.fit(train, \n",
    "          user_features=user_features,\n",
    "          item_features=item_features,\n",
    "          epochs=20, num_threads=4)\n",
    "\n",
    "score= auc_score(model, test, user_features=user_features, item_features=item_features).mean()\n",
    "print('Test AUC: {:.2f}'.format(score * 100))\n",
    "\n",
    "accuracy = precision_at_k(model, test, user_features=user_features, item_features=item_features, k=10).mean()\n",
    "print('Test precision: {:.2f}'.format(accuracy * 100))\n",
    "\n",
    "recall = recall_at_k(model, test, user_features=user_features, item_features=item_features, k=10).mean()\n",
    "print('Test recall: {:.2f}'.format(recall * 100))\n",
    "\n",
    "rank = reciprocal_rank(model, test, user_features=user_features, item_features=item_features).mean()\n",
    "print('Test rank: {:.2f}'.format(rank * 100))"
   ]
  },
  {
   "cell_type": "code",
   "execution_count": null,
   "metadata": {},
   "outputs": [
    {
     "name": "stdout",
     "output_type": "stream",
     "text": [
      "User 0\n",
      "Top Items: \n",
      "Data Structures and Algorithms Specialization (...\n",
      "8 Best Computer Science Courses for Beginners t...\n",
      "Course Unit BSCS1003 Data Structures and Algori...\n",
      "                           Best SQL Courses [2023]\n",
      "       Introduction to Computer Science (CMPT 141)\n",
      "\n",
      "User 1\n",
      "Top Items: \n",
      "Data Structures and Algorithms Specialization (...\n",
      "8 Best Computer Science Courses for Beginners t...\n",
      "                           Best SQL Courses [2023]\n",
      "       Introduction to Computer Science (CMPT 141)\n",
      "Course Unit BSCS1003 Data Structures and Algori...\n",
      "\n",
      "User 2\n",
      "Top Items: \n",
      "Intro to Object Oriented Programming - Crash Co...\n",
      "         The best horticulture courses for 2022/23\n",
      "7 Best Free Object-Oriented Programming Online ...\n",
      "Object-oriented programming and algorithms - St...\n",
      "Best Aviation Courses for Filipino Students - A...\n",
      "\n",
      "User 3\n",
      "Top Items: \n",
      "Course Unit BSCS1003 Data Structures and Algori...\n",
      "Data Structures and Algorithms Specialization (...\n",
      "8 Best Computer Science Courses for Beginners t...\n",
      "                           Best SQL Courses [2023]\n",
      "           ICS 340: Algorithms and Data Structures\n",
      "\n",
      "User 4\n",
      "Top Items: \n",
      " Object Oriented Programming with Python - YouTube\n",
      "               Introduction to Computing Science I\n",
      "Object Oriented Programming in Java | Free Courses\n",
      "   Introduction to SQL Course | Get Started in SQL\n",
      "                      Algorithms & Data Structures\n",
      "\n",
      "User 5\n",
      "Top Items: \n",
      " Object Oriented Programming with Python - YouTube\n",
      "Intro to Object Oriented Programming - Crash Co...\n",
      "7 Best Free Object-Oriented Programming Online ...\n",
      "C++ OOP (Object-Oriented Programming)Java OOP (...\n",
      " Object Oriented Programming in Java from Coursera\n",
      "\n",
      "User 6\n",
      "Top Items: \n",
      " Object Oriented Programming with Python - YouTube\n",
      "Intro to Object Oriented Programming - Crash Co...\n",
      "               Introduction to Computing Science I\n",
      "Object Oriented Programming in Java | Free Courses\n",
      "   Introduction to SQL Course | Get Started in SQL\n",
      "\n",
      "User 7\n",
      "Top Items: \n",
      "Course Unit BSCS1003 Data Structures and Algori...\n",
      "10 Best Data Structures and Algorithms Courses ...\n",
      "8 Best Computer Science Courses for Beginners t...\n",
      "Data Structures and Algorithms Specialization (...\n",
      "                              DSA Interview Course\n",
      "\n",
      "User 8\n",
      "Top Items: \n",
      "10 Best Data Structures and Algorithms Courses ...\n",
      "         Algorithms and Data Structures: 2022-2023\n",
      " Learn SQL with Online Courses, Classes, & Lessons\n",
      "         The best horticulture courses for 2022/23\n",
      "Object-oriented programming and algorithms - St...\n",
      "\n",
      "User 9\n",
      "Top Items: \n",
      " Object Oriented Programming with Python - YouTube\n",
      "Intro to Object Oriented Programming - Crash Co...\n",
      "Object Oriented Programming in Java | Free Courses\n",
      "7 Best Free Object-Oriented Programming Online ...\n",
      "               Introduction to Computing Science I\n",
      "\n",
      "User 10\n",
      "Top Items: \n",
      "8 Best Computer Science Courses for Beginners t...\n",
      "Data Structures and Algorithms Specialization (...\n",
      "                           Best SQL Courses [2023]\n",
      "       Introduction to Computer Science (CMPT 141)\n",
      "Course Unit BSCS1003 Data Structures and Algori...\n",
      "\n",
      "User 11\n",
      "Top Items: \n",
      " Object Oriented Programming with Python - YouTube\n",
      "Intro to Object Oriented Programming - Crash Co...\n",
      "7 Best Free Object-Oriented Programming Online ...\n",
      "C++ OOP (Object-Oriented Programming)Java OOP (...\n",
      " Object Oriented Programming in Java from Coursera\n",
      "\n"
     ]
    }
   ],
   "source": [
    "for i in range(n_users):\n",
    "    scores = model.predict(i, np.arange(n_items))\n",
    "    top_items = course_df['name'][np.argsort(-scores)]\n",
    "    print('User {}'.format(i))\n",
    "    print(\"Top Items: \")\n",
    "    print(top_items.head(5).to_string(index=False))\n",
    "    print(\"\")\n"
   ]
  },
  {
   "attachments": {},
   "cell_type": "markdown",
   "metadata": {},
   "source": [
    "#### Let's start saving the model so we can use it later on"
   ]
  },
  {
   "cell_type": "code",
   "execution_count": null,
   "metadata": {},
   "outputs": [
    {
     "ename": "NameError",
     "evalue": "name 'dataset' is not defined",
     "output_type": "error",
     "traceback": [
      "\u001b[0;31m---------------------------------------------------------------------------\u001b[0m",
      "\u001b[0;31mNameError\u001b[0m                                 Traceback (most recent call last)",
      "Cell \u001b[0;32mIn[241], line 5\u001b[0m\n\u001b[1;32m      3\u001b[0m \u001b[39m# Save the dataset\u001b[39;00m\n\u001b[1;32m      4\u001b[0m \u001b[39mwith\u001b[39;00m \u001b[39mopen\u001b[39m(\u001b[39m'\u001b[39m\u001b[39mdata/dataset.pickle\u001b[39m\u001b[39m'\u001b[39m, \u001b[39m'\u001b[39m\u001b[39mwb\u001b[39m\u001b[39m'\u001b[39m) \u001b[39mas\u001b[39;00m f:\n\u001b[0;32m----> 5\u001b[0m     pickle\u001b[39m.\u001b[39mdump(dataset, f, protocol\u001b[39m=\u001b[39mpickle\u001b[39m.\u001b[39mHIGHEST_PROTOCOL)\n\u001b[1;32m      8\u001b[0m \u001b[39mwith\u001b[39;00m \u001b[39mopen\u001b[39m(\u001b[39m'\u001b[39m\u001b[39mdata/model.pickle\u001b[39m\u001b[39m'\u001b[39m, \u001b[39m'\u001b[39m\u001b[39mwb\u001b[39m\u001b[39m'\u001b[39m) \u001b[39mas\u001b[39;00m f:\n\u001b[1;32m      9\u001b[0m     pickle\u001b[39m.\u001b[39mdump(model, f, protocol\u001b[39m=\u001b[39mpickle\u001b[39m.\u001b[39mHIGHEST_PROTOCOL)\n",
      "\u001b[0;31mNameError\u001b[0m: name 'dataset' is not defined"
     ]
    }
   ],
   "source": [
    "import pickle\n",
    "\n",
    "# Save the dataset\n",
    "with open('data/dataset.pickle', 'wb') as f:\n",
    "    pickle.dump(dataset, f, protocol=pickle.HIGHEST_PROTOCOL)\n",
    "    \n",
    "\n",
    "with open('data/model.pickle', 'wb') as f:\n",
    "    pickle.dump(model, f, protocol=pickle.HIGHEST_PROTOCOL)"
   ]
  },
  {
   "cell_type": "code",
   "execution_count": null,
   "metadata": {},
   "outputs": [
    {
     "name": "stdout",
     "output_type": "stream",
     "text": [
      "11         Top Java Courses Online - Updated [May 2023]\n",
      "4                                             Learn SQL\n",
      "17    CS50: Introduction to Computer Science | Harva...\n",
      "25                     Introduction to Computer Science\n",
      "5     Learn SQL with Online Courses, Classes, & Lessons\n",
      "19              CS50's Introduction to Computer Science\n",
      "7       Introduction to SQL Course | Get Started in SQL\n",
      "9                  Study Computing - Study In Australia\n",
      "28                          CS 101 - Intro to Computers\n",
      "31    Introduction to Computer Programming from Cour...\n",
      "Name: name, dtype: object\n"
     ]
    }
   ],
   "source": [
    "# Let's try opening the saved model and see if it works\n",
    "from typing import cast\n",
    "with open('data/model.pickle', 'rb') as f:\n",
    "    loaded_model = cast(LightFM, pickle.load(f))\n",
    "    scores = loaded_model.predict(0, np.arange(n_items))\n",
    "    top_items = course_df['name'][np.argsort(-scores)]\n",
    "    print(top_items.head(10))"
   ]
  }
 ],
 "metadata": {
  "kernelspec": {
   "display_name": "Python 3",
   "language": "python",
   "name": "python3"
  },
  "language_info": {
   "codemirror_mode": {
    "name": "ipython",
    "version": 3
   },
   "file_extension": ".py",
   "mimetype": "text/x-python",
   "name": "python",
   "nbconvert_exporter": "python",
   "pygments_lexer": "ipython3",
   "version": "3.11.3"
  },
  "orig_nbformat": 4
 },
 "nbformat": 4,
 "nbformat_minor": 2
}
