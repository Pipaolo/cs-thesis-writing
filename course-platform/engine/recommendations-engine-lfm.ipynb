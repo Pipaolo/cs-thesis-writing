{
 "cells": [
  {
   "attachments": {},
   "cell_type": "markdown",
   "metadata": {},
   "source": [
    "### Recommendations Engine Light FM Version\n",
    "This is the main file for the recommendations engine that uses LightFM to predict recommendations for the user.\n",
    "\n",
    "\n",
    "Note: Try and use this on a linux environment to make sure that everything is working properly."
   ]
  },
  {
   "cell_type": "code",
   "execution_count": 1,
   "metadata": {},
   "outputs": [
    {
     "name": "stderr",
     "output_type": "stream",
     "text": [
      "/Users/solstella/Documents/school/cs-thesis-writing/course-platform/env/lib/python3.9/site-packages/lightfm/_lightfm_fast.py:9: UserWarning: LightFM was compiled without OpenMP support. Only a single thread will be used.\n",
      "  warnings.warn(\n"
     ]
    }
   ],
   "source": [
    "import pandas as pd\n",
    "import numpy as np\n",
    "from scipy import sparse\n",
    "from lightfm import LightFM\n",
    "from lightfm.data import  Dataset"
   ]
  },
  {
   "cell_type": "code",
   "execution_count": 2,
   "metadata": {},
   "outputs": [],
   "source": [
    "# Load the course datasets\n",
    "course_df = pd.read_csv('data/courses.csv')\n",
    "course_df.drop(columns=['createdAt', 'updatedAt', 'deletedAt', 'description'], axis=1, inplace=True)\n",
    "course_interaction_df = pd.read_csv('data/course_interactions.csv')\n",
    "course_interaction_df.drop(columns=['id','createdAt', 'updatedAt', 'deletedAt'], axis=1, inplace=True)"
   ]
  },
  {
   "cell_type": "code",
   "execution_count": 3,
   "metadata": {},
   "outputs": [],
   "source": [
    "# # Group the course interactions by user and course and add a interactions column\n",
    "# course_interaction_df = course_interaction_df.groupby(['userId', 'courseId']).size().reset_index(name='interactions')\n",
    "# course_interaction_df"
   ]
  },
  {
   "cell_type": "markdown",
   "metadata": {},
   "source": [
    "#### Create a dataset for the recommendations engine"
   ]
  },
  {
   "cell_type": "code",
   "execution_count": 4,
   "metadata": {},
   "outputs": [],
   "source": [
    "# Create a lightfm dataset\n",
    "ds = Dataset()\n",
    "\n",
    "\n",
    "# Fit the dataset\n",
    "ds.fit(\n",
    "    users=course_interaction_df['userId'],\n",
    "    items=course_interaction_df['courseId'],\n",
    ")\n",
    "\n",
    "ds.fit_partial(\n",
    "    items=course_df['id'],\n",
    "    item_features=course_df['name'],\n",
    ")"
   ]
  },
  {
   "cell_type": "code",
   "execution_count": 5,
   "metadata": {},
   "outputs": [
    {
     "name": "stdout",
     "output_type": "stream",
     "text": [
      "Num users: 8, num_items 3255.\n"
     ]
    }
   ],
   "source": [
    "# Check the current shape of the dataset\n",
    "print('Num users: {}, num_items {}.'.format(ds.interactions_shape()[0], ds.interactions_shape()[1]))"
   ]
  },
  {
   "cell_type": "code",
   "execution_count": 6,
   "metadata": {},
   "outputs": [
    {
     "name": "stdout",
     "output_type": "stream",
     "text": [
      "Num users: 8, num_items 3255.\n",
      "Num users: 8, num_items 3255.\n"
     ]
    }
   ],
   "source": [
    "item_features = ds.build_item_features(((x['id'],[x['name']]) for _, x in course_df.iterrows()))\n",
    "(interactions, weights) = ds.build_interactions(((x['userId'], x['courseId']) for _, x in course_interaction_df.iterrows()))\n",
    "\n",
    "\n",
    "# Split the data into training and test sets\n",
    "from lightfm.cross_validation import random_train_test_split\n",
    "\n",
    "train, test = random_train_test_split(interactions, test_percentage=0.5, random_state=np.random.RandomState(42))\n",
    "print('Num users: {}, num_items {}.'.format(train.shape[0], train.shape[1]))\n",
    "print('Num users: {}, num_items {}.'.format(test.shape[0], test.shape[1]))"
   ]
  },
  {
   "cell_type": "code",
   "execution_count": 7,
   "metadata": {},
   "outputs": [
    {
     "name": "stdout",
     "output_type": "stream",
     "text": [
      "125000\n"
     ]
    }
   ],
   "source": [
    "# Create a loop to test the model with different hyperparameters\n",
    "from lightfm import LightFM\n",
    "from lightfm.evaluation import precision_at_k\n",
    "\n",
    "params = {\n",
    "    'no_components': [10, 20, 40, 80, 160],\n",
    "    'learning_schedule': ['adagrad', 'adadelta'],\n",
    "    'loss': ['logistic', 'bpr', 'warp', 'warp-kos'],\n",
    "    'learning_rate': [0.05, 0.1, 0.2, 0.5, 1.0],\n",
    "    'item_alpha': [0.0, 0.0001, 0.0005, 0.001, 0.005],\n",
    "    'user_alpha': [0.0, 0.0001, 0.0005, 0.001, 0.005],\n",
    "    'max_sampled': [5, 10, 15, 20, 25],\n",
    "    'num_epochs': [5, 10, 15, 20, 25],\n",
    "    'random_state': [42]\n",
    "}\n",
    "\n",
    "from itertools import product\n",
    "\n",
    "param_grid = list(product(*params.values()))\n",
    "print(len(param_grid))\n",
    "\n",
    "# Create a function to test the model with different hyperparameters\n",
    "def test_model(params):\n",
    "    no_components, learning_schedule, loss, learning_rate, item_alpha, user_alpha, max_sampled, num_epochs, random_state = params\n",
    "    model = LightFM(no_components=no_components,\n",
    "                    learning_schedule=learning_schedule,\n",
    "                    loss=loss,\n",
    "                    learning_rate=learning_rate,\n",
    "                    item_alpha=item_alpha,\n",
    "                    user_alpha=user_alpha,\n",
    "                    max_sampled=max_sampled,\n",
    "                    random_state=random_state)\n",
    "    model.fit(train, epochs=num_epochs, num_threads=4)\n",
    "    train_precision = precision_at_k(model, train, k=10).mean()\n",
    "    test_precision = precision_at_k(model, test, k=10).mean()\n",
    "    return train_precision, test_precision\n",
    "\n",
    "# Test the model with different hyperparameters\n",
    "# results = []\n",
    "# for i in range(len(param_grid)):\n",
    "#     print('Iteration {}/{}'.format(i+1, len(param_grid)))\n",
    "#     results.append(test_model(param_grid[i]))\n",
    "\n",
    "# # Print the results\n",
    "# results_df = pd.DataFrame(results, columns=['train_precision', 'test_precision'])\n",
    "# results_df['params'] = param_grid\n",
    "# results_df.sort_values('test_precision', ascending=False, inplace=True)\n",
    "\n",
    "# # Print the best results\n",
    "# print(results_df.head(10))"
   ]
  },
  {
   "cell_type": "code",
   "execution_count": 8,
   "metadata": {},
   "outputs": [],
   "source": [
    "# Save the results to a csv\n",
    "# results_df.to_csv('data/results.csv', index=False)"
   ]
  },
  {
   "cell_type": "code",
   "execution_count": 9,
   "metadata": {},
   "outputs": [
    {
     "name": "stdout",
     "output_type": "stream",
     "text": [
      "Num users: 8, num_items 3255.\n"
     ]
    }
   ],
   "source": [
    "n_users, n_items = interactions.shape\n",
    "print('Num users: {}, num_items {}.'.format(n_users, n_items))"
   ]
  },
  {
   "cell_type": "code",
   "execution_count": 27,
   "metadata": {},
   "outputs": [
    {
     "data": {
      "text/plain": [
       "<lightfm.lightfm.LightFM at 0x12f24cdc0>"
      ]
     },
     "execution_count": 27,
     "metadata": {},
     "output_type": "execute_result"
    }
   ],
   "source": [
    "model = LightFM(no_components=80,\n",
    "                loss='warp',\n",
    "                learning_rate=0.001,\n",
    "                item_alpha=0.0001,\n",
    "                random_state=42)\n",
    "\n",
    "model.fit(train, epochs=30, num_threads=4)"
   ]
  },
  {
   "cell_type": "code",
   "execution_count": 28,
   "metadata": {},
   "outputs": [
    {
     "name": "stdout",
     "output_type": "stream",
     "text": [
      "User 0\n",
      "Top Items: \n",
      "                 LeetCode's Interview Crash Course\n",
      "8 Best Computer Science Courses for Beginners t...\n",
      "       Introduction to Computer Science (CMPT 141)\n",
      "              Study Computing - Study In Australia\n",
      "Free Java Course Online for Beginners | Java Pr...\n",
      "Introduction to Computer Science ICS3U Online C...\n",
      "                                        Learn Java\n",
      "    Top 6 Online SQL Courses for Beginners in 2023\n",
      "               Introduction to Computing Science I\n",
      "      Top Java Courses Online - Updated [May 2023]\n",
      "\n",
      "User 1\n",
      "Top Items: \n",
      "                 LeetCode's Interview Crash Course\n",
      "       Introduction to Computer Science (CMPT 141)\n",
      "8 Best Computer Science Courses for Beginners t...\n",
      "              Study Computing - Study In Australia\n",
      "               Introduction to Computing Science I\n",
      "                                        Learn Java\n",
      "Free Java Course Online for Beginners | Java Pr...\n",
      "                  Introduction to Computer Science\n",
      "    Top 6 Online SQL Courses for Beginners in 2023\n",
      "15 Best Courses for Data Structures and Algorit...\n",
      "\n",
      "User 2\n",
      "Top Items: \n",
      "                 LeetCode's Interview Crash Course\n",
      "              Study Computing - Study In Australia\n",
      "8 Best Computer Science Courses for Beginners t...\n",
      "       Introduction to Computer Science (CMPT 141)\n",
      "               Introduction to Computing Science I\n",
      "                                        Learn Java\n",
      "    Top 6 Online SQL Courses for Beginners in 2023\n",
      "Free Java Course Online for Beginners | Java Pr...\n",
      "15 Best Courses for Data Structures and Algorit...\n",
      "      Top Java Courses Online - Updated [May 2023]\n",
      "\n",
      "User 3\n",
      "Top Items: \n",
      "                 LeetCode's Interview Crash Course\n",
      "       Introduction to Computer Science (CMPT 141)\n",
      "8 Best Computer Science Courses for Beginners t...\n",
      "              Study Computing - Study In Australia\n",
      "Data Structures and Algorithms Specialization (...\n",
      "Free Java Course Online for Beginners | Java Pr...\n",
      "               Introduction to Computing Science I\n",
      "                                        Learn Java\n",
      "15 Best Courses for Data Structures and Algorit...\n",
      "    Top 6 Online SQL Courses for Beginners in 2023\n",
      "\n",
      "User 4\n",
      "Top Items: \n",
      "                 LeetCode's Interview Crash Course\n",
      "              Study Computing - Study In Australia\n",
      "8 Best Computer Science Courses for Beginners t...\n",
      "       Introduction to Computer Science (CMPT 141)\n",
      "               Introduction to Computing Science I\n",
      "                                        Learn Java\n",
      "15 Best Courses for Data Structures and Algorit...\n",
      "Free Java Course Online for Beginners | Java Pr...\n",
      "    Top 6 Online SQL Courses for Beginners in 2023\n",
      "Data Structures and Algorithms Specialization (...\n",
      "\n",
      "User 5\n",
      "Top Items: \n",
      "                 LeetCode's Interview Crash Course\n",
      "              Study Computing - Study In Australia\n",
      "       Introduction to Computer Science (CMPT 141)\n",
      "8 Best Computer Science Courses for Beginners t...\n",
      "               Introduction to Computing Science I\n",
      "15 Best Courses for Data Structures and Algorit...\n",
      "                                        Learn Java\n",
      "    Top 6 Online SQL Courses for Beginners in 2023\n",
      "Free Java Course Online for Beginners | Java Pr...\n",
      "Data Structures and Algorithms Specialization (...\n",
      "\n",
      "User 6\n",
      "Top Items: \n",
      "                 LeetCode's Interview Crash Course\n",
      "       Introduction to Computer Science (CMPT 141)\n",
      "              Study Computing - Study In Australia\n",
      "8 Best Computer Science Courses for Beginners t...\n",
      "               Introduction to Computing Science I\n",
      "15 Best Courses for Data Structures and Algorit...\n",
      "                                        Learn Java\n",
      "Data Structures and Algorithms Specialization (...\n",
      "Free Java Course Online for Beginners | Java Pr...\n",
      "    Top 6 Online SQL Courses for Beginners in 2023\n",
      "\n",
      "User 7\n",
      "Top Items: \n",
      "                 LeetCode's Interview Crash Course\n",
      "       Introduction to Computer Science (CMPT 141)\n",
      "              Study Computing - Study In Australia\n",
      "8 Best Computer Science Courses for Beginners t...\n",
      "15 Best Courses for Data Structures and Algorit...\n",
      "               Introduction to Computing Science I\n",
      "                                        Learn Java\n",
      "Free Java Course Online for Beginners | Java Pr...\n",
      "Data Structures and Algorithms Specialization (...\n",
      "    Top 6 Online SQL Courses for Beginners in 2023\n",
      "\n"
     ]
    }
   ],
   "source": [
    "for i in range(n_users):\n",
    "    scores = model.predict(i, np.arange(n_items))\n",
    "    top_items = course_df['name'][np.argsort(-scores)]\n",
    "    print('User {}'.format(i))\n",
    "    print(\"Top Items: \")\n",
    "    print(top_items.head(10).to_string(index=False))\n",
    "    print(\"\")\n",
    "\n",
    "    "
   ]
  },
  {
   "attachments": {},
   "cell_type": "markdown",
   "metadata": {},
   "source": [
    "#### Let's start saving the model so we can use it later on"
   ]
  },
  {
   "cell_type": "code",
   "execution_count": 12,
   "metadata": {},
   "outputs": [
    {
     "ename": "NameError",
     "evalue": "name 'dataset' is not defined",
     "output_type": "error",
     "traceback": [
      "\u001b[0;31m---------------------------------------------------------------------------\u001b[0m",
      "\u001b[0;31mNameError\u001b[0m                                 Traceback (most recent call last)",
      "Cell \u001b[0;32mIn[12], line 5\u001b[0m\n\u001b[1;32m      3\u001b[0m \u001b[39m# Save the dataset\u001b[39;00m\n\u001b[1;32m      4\u001b[0m \u001b[39mwith\u001b[39;00m \u001b[39mopen\u001b[39m(\u001b[39m'\u001b[39m\u001b[39mdata/dataset.pickle\u001b[39m\u001b[39m'\u001b[39m, \u001b[39m'\u001b[39m\u001b[39mwb\u001b[39m\u001b[39m'\u001b[39m) \u001b[39mas\u001b[39;00m f:\n\u001b[0;32m----> 5\u001b[0m     pickle\u001b[39m.\u001b[39mdump(dataset, f, protocol\u001b[39m=\u001b[39mpickle\u001b[39m.\u001b[39mHIGHEST_PROTOCOL)\n\u001b[1;32m      8\u001b[0m \u001b[39mwith\u001b[39;00m \u001b[39mopen\u001b[39m(\u001b[39m'\u001b[39m\u001b[39mdata/model.pickle\u001b[39m\u001b[39m'\u001b[39m, \u001b[39m'\u001b[39m\u001b[39mwb\u001b[39m\u001b[39m'\u001b[39m) \u001b[39mas\u001b[39;00m f:\n\u001b[1;32m      9\u001b[0m     pickle\u001b[39m.\u001b[39mdump(model, f, protocol\u001b[39m=\u001b[39mpickle\u001b[39m.\u001b[39mHIGHEST_PROTOCOL)\n",
      "\u001b[0;31mNameError\u001b[0m: name 'dataset' is not defined"
     ]
    }
   ],
   "source": [
    "import pickle\n",
    "\n",
    "# Save the dataset\n",
    "with open('data/dataset.pickle', 'wb') as f:\n",
    "    pickle.dump(dataset, f, protocol=pickle.HIGHEST_PROTOCOL)\n",
    "    \n",
    "\n",
    "with open('data/model.pickle', 'wb') as f:\n",
    "    pickle.dump(model, f, protocol=pickle.HIGHEST_PROTOCOL)"
   ]
  },
  {
   "cell_type": "code",
   "execution_count": null,
   "metadata": {},
   "outputs": [
    {
     "name": "stdout",
     "output_type": "stream",
     "text": [
      "11         Top Java Courses Online - Updated [May 2023]\n",
      "4                                             Learn SQL\n",
      "17    CS50: Introduction to Computer Science | Harva...\n",
      "25                     Introduction to Computer Science\n",
      "5     Learn SQL with Online Courses, Classes, & Lessons\n",
      "19              CS50's Introduction to Computer Science\n",
      "7       Introduction to SQL Course | Get Started in SQL\n",
      "9                  Study Computing - Study In Australia\n",
      "28                          CS 101 - Intro to Computers\n",
      "31    Introduction to Computer Programming from Cour...\n",
      "Name: name, dtype: object\n"
     ]
    }
   ],
   "source": [
    "# Let's try opening the saved model and see if it works\n",
    "from typing import cast\n",
    "with open('data/model.pickle', 'rb') as f:\n",
    "    loaded_model = cast(LightFM, pickle.load(f))\n",
    "    scores = loaded_model.predict(0, np.arange(n_items))\n",
    "    top_items = course_df['name'][np.argsort(-scores)]\n",
    "    print(top_items.head(10))"
   ]
  }
 ],
 "metadata": {
  "kernelspec": {
   "display_name": "Python 3",
   "language": "python",
   "name": "python3"
  },
  "language_info": {
   "codemirror_mode": {
    "name": "ipython",
    "version": 3
   },
   "file_extension": ".py",
   "mimetype": "text/x-python",
   "name": "python",
   "nbconvert_exporter": "python",
   "pygments_lexer": "ipython3",
   "version": "3.9.16"
  },
  "orig_nbformat": 4
 },
 "nbformat": 4,
 "nbformat_minor": 2
}
