{
 "cells": [
  {
   "attachments": {},
   "cell_type": "markdown",
   "metadata": {},
   "source": [
    "### Recommendations Engine Testing\n",
    "This uses the pre-trained model that is based from the latest `courses.csv` and `course_interactions.csv` datasets which are all based on the course explorer website."
   ]
  },
  {
   "cell_type": "code",
   "execution_count": 4,
   "metadata": {},
   "outputs": [],
   "source": [
    "from typing import Dict, Text\n",
    "\n",
    "import numpy as np\n",
    "import tensorflow as tf\n",
    "\n",
    "import tensorflow_datasets as tfds\n",
    "import tensorflow_recommenders as tfrs\n",
    "import pandas as pd"
   ]
  },
  {
   "cell_type": "code",
   "execution_count": 11,
   "metadata": {},
   "outputs": [
    {
     "name": "stdout",
     "output_type": "stream",
     "text": [
      "WARNING:tensorflow:No training configuration found in save file, so the model was *not* compiled. Compile it manually.\n"
     ]
    },
    {
     "data": {
      "text/plain": [
       "(<tf.Tensor: shape=(1, 10), dtype=float32, numpy=\n",
       " array([[0.02580016, 0.02382596, 0.02304047, 0.02240089, 0.02215362,\n",
       "         0.0216061 , 0.02036874, 0.0203048 , 0.01926893, 0.01847   ]],\n",
       "       dtype=float32)>,\n",
       " <tf.Tensor: shape=(1, 10), dtype=string, numpy=\n",
       " array([[b'Emergency Medicine Courses \\xe2\\x80\\x93 We provide free open online ...',\n",
       "         b'BA (Hons) Graphic Design',\n",
       "         b'Best Operating System Courses & Certifications [2023]',\n",
       "         b'Best Data Mining Courses Online | Beginner \\xe2\\x86\\x92 Advanced',\n",
       "         b'Bachelor of Science in Architecture (BSARCH)',\n",
       "         b'Artificial Intelligence Programs | Stanford OnlineArtificial Intelligence Professional Program - Stanford Online',\n",
       "         b'521043S Internet of Things',\n",
       "         b'Artificial Intelligence (AI) Online Training Courses',\n",
       "         b'BSc (Hons) in Software Engineering',\n",
       "         b'Object-oriented Programming in Python - Online Course']],\n",
       "       dtype=object)>)"
      ]
     },
     "execution_count": 11,
     "metadata": {},
     "output_type": "execute_result"
    }
   ],
   "source": [
    "# Load the model\n",
    "model = tf.keras.models.load_model('model')\n",
    "model(np.array(['42']))"
   ]
  }
 ],
 "metadata": {
  "kernelspec": {
   "display_name": "Python 3",
   "language": "python",
   "name": "python3"
  },
  "language_info": {
   "codemirror_mode": {
    "name": "ipython",
    "version": 3
   },
   "file_extension": ".py",
   "mimetype": "text/x-python",
   "name": "python",
   "nbconvert_exporter": "python",
   "pygments_lexer": "ipython3",
   "version": "3.11.3"
  },
  "orig_nbformat": 4
 },
 "nbformat": 4,
 "nbformat_minor": 2
}
