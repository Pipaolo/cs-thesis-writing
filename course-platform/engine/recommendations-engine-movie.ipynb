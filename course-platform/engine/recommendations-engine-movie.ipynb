{
 "cells": [
  {
   "cell_type": "code",
   "execution_count": 2,
   "metadata": {},
   "outputs": [
    {
     "name": "stderr",
     "output_type": "stream",
     "text": [
      "f:\\school\\cs-thesis-writing\\course-platform\\env\\Lib\\site-packages\\tqdm\\auto.py:21: TqdmWarning: IProgress not found. Please update jupyter and ipywidgets. See https://ipywidgets.readthedocs.io/en/stable/user_install.html\n",
      "  from .autonotebook import tqdm as notebook_tqdm\n"
     ]
    }
   ],
   "source": [
    "from typing import Dict, Text\n",
    "\n",
    "import numpy as np\n",
    "import tensorflow as tf\n",
    "\n",
    "import tensorflow_datasets as tfds\n",
    "import tensorflow_recommenders as tfrs"
   ]
  },
  {
   "cell_type": "code",
   "execution_count": 3,
   "metadata": {},
   "outputs": [],
   "source": [
    "# Ratings data.\n",
    "ratings = tfds.load('movielens/100k-ratings', split=\"train\")\n",
    "# Features of all the available movies.\n",
    "movies = tfds.load('movielens/100k-movies', split=\"train\")\n",
    "\n",
    "# Select the basic features.\n",
    "ratings = ratings.map(lambda x: {\n",
    "    \"movie_title\": x[\"movie_title\"],\n",
    "    \"user_id\": x[\"user_id\"]\n",
    "})\n",
    "movies = movies.map(lambda x: x[\"movie_title\"])"
   ]
  },
  {
   "cell_type": "code",
   "execution_count": 4,
   "metadata": {},
   "outputs": [
    {
     "data": {
      "text/html": [
       "<style type=\"text/css\">\n",
       "</style>\n",
       "<table id=\"T_9fab9\">\n",
       "  <thead>\n",
       "    <tr>\n",
       "      <th class=\"blank level0\" >&nbsp;</th>\n",
       "      <th id=\"T_9fab9_level0_col0\" class=\"col_heading level0 col0\" >movie_title</th>\n",
       "      <th id=\"T_9fab9_level0_col1\" class=\"col_heading level0 col1\" >user_id</th>\n",
       "    </tr>\n",
       "  </thead>\n",
       "  <tbody>\n",
       "    <tr>\n",
       "      <th id=\"T_9fab9_level0_row0\" class=\"row_heading level0 row0\" >0</th>\n",
       "      <td id=\"T_9fab9_row0_col0\" class=\"data row0 col0\" >b\"One Flew Over the Cuckoo's Nest (1975)\"</td>\n",
       "      <td id=\"T_9fab9_row0_col1\" class=\"data row0 col1\" >b'138'</td>\n",
       "    </tr>\n",
       "    <tr>\n",
       "      <th id=\"T_9fab9_level0_row1\" class=\"row_heading level0 row1\" >1</th>\n",
       "      <td id=\"T_9fab9_row1_col0\" class=\"data row1 col0\" >b'Strictly Ballroom (1992)'</td>\n",
       "      <td id=\"T_9fab9_row1_col1\" class=\"data row1 col1\" >b'92'</td>\n",
       "    </tr>\n",
       "    <tr>\n",
       "      <th id=\"T_9fab9_level0_row2\" class=\"row_heading level0 row2\" >2</th>\n",
       "      <td id=\"T_9fab9_row2_col0\" class=\"data row2 col0\" >b'Very Brady Sequel, A (1996)'</td>\n",
       "      <td id=\"T_9fab9_row2_col1\" class=\"data row2 col1\" >b'301'</td>\n",
       "    </tr>\n",
       "    <tr>\n",
       "      <th id=\"T_9fab9_level0_row3\" class=\"row_heading level0 row3\" >3</th>\n",
       "      <td id=\"T_9fab9_row3_col0\" class=\"data row3 col0\" >b'Pulp Fiction (1994)'</td>\n",
       "      <td id=\"T_9fab9_row3_col1\" class=\"data row3 col1\" >b'60'</td>\n",
       "    </tr>\n",
       "    <tr>\n",
       "      <th id=\"T_9fab9_level0_row4\" class=\"row_heading level0 row4\" >4</th>\n",
       "      <td id=\"T_9fab9_row4_col0\" class=\"data row4 col0\" >b'Scream 2 (1997)'</td>\n",
       "      <td id=\"T_9fab9_row4_col1\" class=\"data row4 col1\" >b'197'</td>\n",
       "    </tr>\n",
       "    <tr>\n",
       "      <th id=\"T_9fab9_level0_row5\" class=\"row_heading level0 row5\" >5</th>\n",
       "      <td id=\"T_9fab9_row5_col0\" class=\"data row5 col0\" >b'Crash (1996)'</td>\n",
       "      <td id=\"T_9fab9_row5_col1\" class=\"data row5 col1\" >b'601'</td>\n",
       "    </tr>\n",
       "    <tr>\n",
       "      <th id=\"T_9fab9_level0_row6\" class=\"row_heading level0 row6\" >6</th>\n",
       "      <td id=\"T_9fab9_row6_col0\" class=\"data row6 col0\" >b'Aladdin (1992)'</td>\n",
       "      <td id=\"T_9fab9_row6_col1\" class=\"data row6 col1\" >b'710'</td>\n",
       "    </tr>\n",
       "    <tr>\n",
       "      <th id=\"T_9fab9_level0_row7\" class=\"row_heading level0 row7\" >7</th>\n",
       "      <td id=\"T_9fab9_row7_col0\" class=\"data row7 col0\" >b'True Romance (1993)'</td>\n",
       "      <td id=\"T_9fab9_row7_col1\" class=\"data row7 col1\" >b'833'</td>\n",
       "    </tr>\n",
       "    <tr>\n",
       "      <th id=\"T_9fab9_level0_row8\" class=\"row_heading level0 row8\" >8</th>\n",
       "      <td id=\"T_9fab9_row8_col0\" class=\"data row8 col0\" >b'Bob Roberts (1992)'</td>\n",
       "      <td id=\"T_9fab9_row8_col1\" class=\"data row8 col1\" >b'916'</td>\n",
       "    </tr>\n",
       "    <tr>\n",
       "      <th id=\"T_9fab9_level0_row9\" class=\"row_heading level0 row9\" >9</th>\n",
       "      <td id=\"T_9fab9_row9_col0\" class=\"data row9 col0\" >b'Starship Troopers (1997)'</td>\n",
       "      <td id=\"T_9fab9_row9_col1\" class=\"data row9 col1\" >b'940'</td>\n",
       "    </tr>\n",
       "  </tbody>\n",
       "</table>\n"
      ],
      "text/plain": [
       "                                 movie_title user_id\n",
       "0  b\"One Flew Over the Cuckoo's Nest (1975)\"  b'138'\n",
       "1                b'Strictly Ballroom (1992)'   b'92'\n",
       "2             b'Very Brady Sequel, A (1996)'  b'301'\n",
       "3                     b'Pulp Fiction (1994)'   b'60'\n",
       "4                         b'Scream 2 (1997)'  b'197'\n",
       "5                            b'Crash (1996)'  b'601'\n",
       "6                          b'Aladdin (1992)'  b'710'\n",
       "7                     b'True Romance (1993)'  b'833'\n",
       "8                      b'Bob Roberts (1992)'  b'916'\n",
       "9                b'Starship Troopers (1997)'  b'940'"
      ]
     },
     "execution_count": 4,
     "metadata": {},
     "output_type": "execute_result"
    }
   ],
   "source": [
    "df = tfds.as_dataframe(ratings.take(10))\n",
    "df"
   ]
  },
  {
   "cell_type": "code",
   "execution_count": 5,
   "metadata": {},
   "outputs": [
    {
     "data": {
      "text/plain": [
       "<_MapDataset element_spec=TensorSpec(shape=(), dtype=tf.string, name=None)>"
      ]
     },
     "execution_count": 5,
     "metadata": {},
     "output_type": "execute_result"
    }
   ],
   "source": [
    "movies"
   ]
  },
  {
   "cell_type": "code",
   "execution_count": 6,
   "metadata": {},
   "outputs": [],
   "source": [
    "user_ids_vocabulary = tf.keras.layers.StringLookup(mask_token=None)\n",
    "user_ids_vocabulary.adapt(ratings.map(lambda x: x[\"user_id\"]))\n",
    "\n",
    "movie_titles_vocabulary = tf.keras.layers.StringLookup(mask_token=None)\n",
    "movie_titles_vocabulary.adapt(movies)"
   ]
  },
  {
   "attachments": {},
   "cell_type": "markdown",
   "metadata": {},
   "source": [
    "## Define a model\n"
   ]
  },
  {
   "cell_type": "code",
   "execution_count": 7,
   "metadata": {},
   "outputs": [],
   "source": [
    "class MovieLensModel(tfrs.Model):\n",
    "    def __init__(self,\n",
    "                 user_model: tf.keras.Model,\n",
    "                 movie_model: tf.keras.Model,\n",
    "                 task: tfrs.tasks.Retrieval):\n",
    "\n",
    "        super().__init__()\n",
    "\n",
    "        self.user_model = user_model\n",
    "        self.movie_model = movie_model\n",
    "\n",
    "        self.task = task\n",
    "    \n",
    "\n",
    "    def compute_loss(self, features: Dict[Text, tf.Tensor], training=False) -> tf.Tensor:\n",
    "        user_embeddings = self.user_model(features[\"user_id\"])\n",
    "        movie_embeddings = self.movie_model(features[\"movie_title\"])\n",
    "        print(\"COMPUTE LOSS: \")\n",
    "        print(features)\n",
    "        return self.task(user_embeddings, movie_embeddings)"
   ]
  },
  {
   "cell_type": "code",
   "execution_count": 8,
   "metadata": {},
   "outputs": [],
   "source": [
    "user_model = tf.keras.Sequential([\n",
    "    user_ids_vocabulary,\n",
    "    tf.keras.layers.Embedding(user_ids_vocabulary.vocabulary_size(), 64)\n",
    "])\n",
    "\n",
    "movie_model = tf.keras.Sequential([\n",
    "    movie_titles_vocabulary,\n",
    "    tf.keras.layers.Embedding(movie_titles_vocabulary.vocabulary_size(), 64)\n",
    "])\n",
    "\n",
    "task = tfrs.tasks.Retrieval(metrics=tfrs.metrics.FactorizedTopK(\n",
    "    movies.batch(128).map(movie_model)\n",
    "    )\n",
    ")"
   ]
  },
  {
   "cell_type": "code",
   "execution_count": 9,
   "metadata": {},
   "outputs": [
    {
     "data": {
      "text/html": [
       "<style type=\"text/css\">\n",
       "</style>\n",
       "<table id=\"T_7a0cd\">\n",
       "  <thead>\n",
       "    <tr>\n",
       "      <th class=\"blank level0\" >&nbsp;</th>\n",
       "      <th id=\"T_7a0cd_level0_col0\" class=\"col_heading level0 col0\" >movie_title</th>\n",
       "      <th id=\"T_7a0cd_level0_col1\" class=\"col_heading level0 col1\" >user_id</th>\n",
       "    </tr>\n",
       "  </thead>\n",
       "  <tbody>\n",
       "    <tr>\n",
       "      <th id=\"T_7a0cd_level0_row0\" class=\"row_heading level0 row0\" >0</th>\n",
       "      <td id=\"T_7a0cd_row0_col0\" class=\"data row0 col0\" >b\"One Flew Over the Cuckoo's Nest (1975)\"</td>\n",
       "      <td id=\"T_7a0cd_row0_col1\" class=\"data row0 col1\" >b'138'</td>\n",
       "    </tr>\n",
       "    <tr>\n",
       "      <th id=\"T_7a0cd_level0_row1\" class=\"row_heading level0 row1\" >1</th>\n",
       "      <td id=\"T_7a0cd_row1_col0\" class=\"data row1 col0\" >b'Strictly Ballroom (1992)'</td>\n",
       "      <td id=\"T_7a0cd_row1_col1\" class=\"data row1 col1\" >b'92'</td>\n",
       "    </tr>\n",
       "    <tr>\n",
       "      <th id=\"T_7a0cd_level0_row2\" class=\"row_heading level0 row2\" >2</th>\n",
       "      <td id=\"T_7a0cd_row2_col0\" class=\"data row2 col0\" >b'Very Brady Sequel, A (1996)'</td>\n",
       "      <td id=\"T_7a0cd_row2_col1\" class=\"data row2 col1\" >b'301'</td>\n",
       "    </tr>\n",
       "    <tr>\n",
       "      <th id=\"T_7a0cd_level0_row3\" class=\"row_heading level0 row3\" >3</th>\n",
       "      <td id=\"T_7a0cd_row3_col0\" class=\"data row3 col0\" >b'Pulp Fiction (1994)'</td>\n",
       "      <td id=\"T_7a0cd_row3_col1\" class=\"data row3 col1\" >b'60'</td>\n",
       "    </tr>\n",
       "    <tr>\n",
       "      <th id=\"T_7a0cd_level0_row4\" class=\"row_heading level0 row4\" >4</th>\n",
       "      <td id=\"T_7a0cd_row4_col0\" class=\"data row4 col0\" >b'Scream 2 (1997)'</td>\n",
       "      <td id=\"T_7a0cd_row4_col1\" class=\"data row4 col1\" >b'197'</td>\n",
       "    </tr>\n",
       "    <tr>\n",
       "      <th id=\"T_7a0cd_level0_row5\" class=\"row_heading level0 row5\" >5</th>\n",
       "      <td id=\"T_7a0cd_row5_col0\" class=\"data row5 col0\" >b'Crash (1996)'</td>\n",
       "      <td id=\"T_7a0cd_row5_col1\" class=\"data row5 col1\" >b'601'</td>\n",
       "    </tr>\n",
       "    <tr>\n",
       "      <th id=\"T_7a0cd_level0_row6\" class=\"row_heading level0 row6\" >6</th>\n",
       "      <td id=\"T_7a0cd_row6_col0\" class=\"data row6 col0\" >b'Aladdin (1992)'</td>\n",
       "      <td id=\"T_7a0cd_row6_col1\" class=\"data row6 col1\" >b'710'</td>\n",
       "    </tr>\n",
       "    <tr>\n",
       "      <th id=\"T_7a0cd_level0_row7\" class=\"row_heading level0 row7\" >7</th>\n",
       "      <td id=\"T_7a0cd_row7_col0\" class=\"data row7 col0\" >b'True Romance (1993)'</td>\n",
       "      <td id=\"T_7a0cd_row7_col1\" class=\"data row7 col1\" >b'833'</td>\n",
       "    </tr>\n",
       "    <tr>\n",
       "      <th id=\"T_7a0cd_level0_row8\" class=\"row_heading level0 row8\" >8</th>\n",
       "      <td id=\"T_7a0cd_row8_col0\" class=\"data row8 col0\" >b'Bob Roberts (1992)'</td>\n",
       "      <td id=\"T_7a0cd_row8_col1\" class=\"data row8 col1\" >b'916'</td>\n",
       "    </tr>\n",
       "    <tr>\n",
       "      <th id=\"T_7a0cd_level0_row9\" class=\"row_heading level0 row9\" >9</th>\n",
       "      <td id=\"T_7a0cd_row9_col0\" class=\"data row9 col0\" >b'Starship Troopers (1997)'</td>\n",
       "      <td id=\"T_7a0cd_row9_col1\" class=\"data row9 col1\" >b'940'</td>\n",
       "    </tr>\n",
       "  </tbody>\n",
       "</table>\n"
      ],
      "text/plain": [
       "                                 movie_title user_id\n",
       "0  b\"One Flew Over the Cuckoo's Nest (1975)\"  b'138'\n",
       "1                b'Strictly Ballroom (1992)'   b'92'\n",
       "2             b'Very Brady Sequel, A (1996)'  b'301'\n",
       "3                     b'Pulp Fiction (1994)'   b'60'\n",
       "4                         b'Scream 2 (1997)'  b'197'\n",
       "5                            b'Crash (1996)'  b'601'\n",
       "6                          b'Aladdin (1992)'  b'710'\n",
       "7                     b'True Romance (1993)'  b'833'\n",
       "8                      b'Bob Roberts (1992)'  b'916'\n",
       "9                b'Starship Troopers (1997)'  b'940'"
      ]
     },
     "execution_count": 9,
     "metadata": {},
     "output_type": "execute_result"
    }
   ],
   "source": [
    "df = tfds.as_dataframe(ratings.take(10))\n",
    "df"
   ]
  },
  {
   "cell_type": "code",
   "execution_count": 10,
   "metadata": {},
   "outputs": [
    {
     "name": "stdout",
     "output_type": "stream",
     "text": [
      "Epoch 1/5\n",
      "COMPUTE LOSS: \n",
      "{'movie_title': <tf.Tensor 'IteratorGetNext:0' shape=(None,) dtype=string>, 'user_id': <tf.Tensor 'IteratorGetNext:1' shape=(None,) dtype=string>}\n",
      "COMPUTE LOSS: \n",
      "{'movie_title': <tf.Tensor 'IteratorGetNext:0' shape=(None,) dtype=string>, 'user_id': <tf.Tensor 'IteratorGetNext:1' shape=(None,) dtype=string>}\n",
      "25/25 [==============================] - 5s 171ms/step - factorized_top_k/top_1_categorical_accuracy: 1.4000e-04 - factorized_top_k/top_5_categorical_accuracy: 0.0016 - factorized_top_k/top_10_categorical_accuracy: 0.0049 - factorized_top_k/top_50_categorical_accuracy: 0.0454 - factorized_top_k/top_100_categorical_accuracy: 0.1023 - loss: 33088.3559 - regularization_loss: 0.0000e+00 - total_loss: 33088.3559\n",
      "Epoch 2/5\n",
      "25/25 [==============================] - 4s 175ms/step - factorized_top_k/top_1_categorical_accuracy: 1.5000e-04 - factorized_top_k/top_5_categorical_accuracy: 0.0053 - factorized_top_k/top_10_categorical_accuracy: 0.0146 - factorized_top_k/top_50_categorical_accuracy: 0.1044 - factorized_top_k/top_100_categorical_accuracy: 0.2101 - loss: 31014.5137 - regularization_loss: 0.0000e+00 - total_loss: 31014.5137\n",
      "Epoch 3/5\n",
      "25/25 [==============================] - 4s 174ms/step - factorized_top_k/top_1_categorical_accuracy: 5.0000e-04 - factorized_top_k/top_5_categorical_accuracy: 0.0083 - factorized_top_k/top_10_categorical_accuracy: 0.0225 - factorized_top_k/top_50_categorical_accuracy: 0.1448 - factorized_top_k/top_100_categorical_accuracy: 0.2673 - loss: 30421.1615 - regularization_loss: 0.0000e+00 - total_loss: 30421.1615\n",
      "Epoch 4/5\n",
      "25/25 [==============================] - 4s 167ms/step - factorized_top_k/top_1_categorical_accuracy: 6.9000e-04 - factorized_top_k/top_5_categorical_accuracy: 0.0105 - factorized_top_k/top_10_categorical_accuracy: 0.0277 - factorized_top_k/top_50_categorical_accuracy: 0.1768 - factorized_top_k/top_100_categorical_accuracy: 0.3138 - loss: 30074.0005 - regularization_loss: 0.0000e+00 - total_loss: 30074.0005\n",
      "Epoch 5/5\n",
      "25/25 [==============================] - 4s 175ms/step - factorized_top_k/top_1_categorical_accuracy: 4.9000e-04 - factorized_top_k/top_5_categorical_accuracy: 0.0112 - factorized_top_k/top_10_categorical_accuracy: 0.0309 - factorized_top_k/top_50_categorical_accuracy: 0.1984 - factorized_top_k/top_100_categorical_accuracy: 0.3455 - loss: 29818.7644 - regularization_loss: 0.0000e+00 - total_loss: 29818.7644\n",
      "Top 3 recommendations for user 42: [b'Rent-a-Kid (1995)' b'House Arrest (1996)' b'Just Cause (1995)']\n"
     ]
    }
   ],
   "source": [
    "model = MovieLensModel(user_model, movie_model, task)\n",
    "model.compile(optimizer=tf.keras.optimizers.Adagrad(0.5))\n",
    "\n",
    "model.fit(ratings.batch(4096), epochs=5)\n",
    "\n",
    "index = tfrs.layers.factorized_top_k.BruteForce(model.user_model)\n",
    "index.index_from_dataset(\n",
    "    movies.batch(100).map(lambda title: (title, model.movie_model(title))))\n",
    "\n",
    "_, titles = index(np.array([\"42\"]))\n",
    "print(f\"Top 3 recommendations for user 42: {titles[0, :3]}\")"
   ]
  }
 ],
 "metadata": {
  "kernelspec": {
   "display_name": "Python 3",
   "language": "python",
   "name": "python3"
  },
  "language_info": {
   "codemirror_mode": {
    "name": "ipython",
    "version": 3
   },
   "file_extension": ".py",
   "mimetype": "text/x-python",
   "name": "python",
   "nbconvert_exporter": "python",
   "pygments_lexer": "ipython3",
   "version": "3.11.3"
  },
  "orig_nbformat": 4
 },
 "nbformat": 4,
 "nbformat_minor": 2
}
